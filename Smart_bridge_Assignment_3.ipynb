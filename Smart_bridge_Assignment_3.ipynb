{
  "nbformat": 4,
  "nbformat_minor": 0,
  "metadata": {
    "colab": {
      "name": "Smart bridge Assignment 3.ipynb",
      "provenance": [],
      "collapsed_sections": []
    },
    "kernelspec": {
      "name": "python3",
      "display_name": "Python 3"
    },
    "language_info": {
      "name": "python"
    }
  },
  "cells": [
    {
      "cell_type": "code",
      "execution_count": 21,
      "metadata": {
        "id": "Cc4OySQcq9Xu"
      },
      "outputs": [],
      "source": [
        "import pandas as pd\n",
        "import numpy as np\n",
        "import matplotlib.pyplot as plt"
      ]
    },
    {
      "cell_type": "code",
      "source": [
        "data=pd.read_csv('/content/Salary_Data.csv')"
      ],
      "metadata": {
        "id": "mnJZTZ0grLRz"
      },
      "execution_count": 22,
      "outputs": []
    },
    {
      "cell_type": "code",
      "source": [
        "data"
      ],
      "metadata": {
        "colab": {
          "base_uri": "https://localhost:8080/",
          "height": 990
        },
        "id": "f9CnCAUirSp3",
        "outputId": "ec88e8e0-a3b1-4dc0-c182-56012110aa0e"
      },
      "execution_count": 23,
      "outputs": [
        {
          "output_type": "execute_result",
          "data": {
            "text/plain": [
              "    YearsExperience    Salary\n",
              "0               1.1   39343.0\n",
              "1               1.3   46205.0\n",
              "2               1.5   37731.0\n",
              "3               2.0   43525.0\n",
              "4               2.2   39891.0\n",
              "5               2.9   56642.0\n",
              "6               3.0   60150.0\n",
              "7               3.2   54445.0\n",
              "8               3.2   64445.0\n",
              "9               3.7   57189.0\n",
              "10              3.9   63218.0\n",
              "11              4.0   55794.0\n",
              "12              4.0   56957.0\n",
              "13              4.1   57081.0\n",
              "14              4.5   61111.0\n",
              "15              4.9   67938.0\n",
              "16              5.1   66029.0\n",
              "17              5.3   83088.0\n",
              "18              5.9   81363.0\n",
              "19              6.0   93940.0\n",
              "20              6.8   91738.0\n",
              "21              7.1   98273.0\n",
              "22              7.9  101302.0\n",
              "23              8.2  113812.0\n",
              "24              8.7  109431.0\n",
              "25              9.0  105582.0\n",
              "26              9.5  116969.0\n",
              "27              9.6  112635.0\n",
              "28             10.3  122391.0\n",
              "29             10.5  121872.0"
            ],
            "text/html": [
              "\n",
              "  <div id=\"df-9e352126-9d16-4771-8e8b-6192f20262c2\">\n",
              "    <div class=\"colab-df-container\">\n",
              "      <div>\n",
              "<style scoped>\n",
              "    .dataframe tbody tr th:only-of-type {\n",
              "        vertical-align: middle;\n",
              "    }\n",
              "\n",
              "    .dataframe tbody tr th {\n",
              "        vertical-align: top;\n",
              "    }\n",
              "\n",
              "    .dataframe thead th {\n",
              "        text-align: right;\n",
              "    }\n",
              "</style>\n",
              "<table border=\"1\" class=\"dataframe\">\n",
              "  <thead>\n",
              "    <tr style=\"text-align: right;\">\n",
              "      <th></th>\n",
              "      <th>YearsExperience</th>\n",
              "      <th>Salary</th>\n",
              "    </tr>\n",
              "  </thead>\n",
              "  <tbody>\n",
              "    <tr>\n",
              "      <th>0</th>\n",
              "      <td>1.1</td>\n",
              "      <td>39343.0</td>\n",
              "    </tr>\n",
              "    <tr>\n",
              "      <th>1</th>\n",
              "      <td>1.3</td>\n",
              "      <td>46205.0</td>\n",
              "    </tr>\n",
              "    <tr>\n",
              "      <th>2</th>\n",
              "      <td>1.5</td>\n",
              "      <td>37731.0</td>\n",
              "    </tr>\n",
              "    <tr>\n",
              "      <th>3</th>\n",
              "      <td>2.0</td>\n",
              "      <td>43525.0</td>\n",
              "    </tr>\n",
              "    <tr>\n",
              "      <th>4</th>\n",
              "      <td>2.2</td>\n",
              "      <td>39891.0</td>\n",
              "    </tr>\n",
              "    <tr>\n",
              "      <th>5</th>\n",
              "      <td>2.9</td>\n",
              "      <td>56642.0</td>\n",
              "    </tr>\n",
              "    <tr>\n",
              "      <th>6</th>\n",
              "      <td>3.0</td>\n",
              "      <td>60150.0</td>\n",
              "    </tr>\n",
              "    <tr>\n",
              "      <th>7</th>\n",
              "      <td>3.2</td>\n",
              "      <td>54445.0</td>\n",
              "    </tr>\n",
              "    <tr>\n",
              "      <th>8</th>\n",
              "      <td>3.2</td>\n",
              "      <td>64445.0</td>\n",
              "    </tr>\n",
              "    <tr>\n",
              "      <th>9</th>\n",
              "      <td>3.7</td>\n",
              "      <td>57189.0</td>\n",
              "    </tr>\n",
              "    <tr>\n",
              "      <th>10</th>\n",
              "      <td>3.9</td>\n",
              "      <td>63218.0</td>\n",
              "    </tr>\n",
              "    <tr>\n",
              "      <th>11</th>\n",
              "      <td>4.0</td>\n",
              "      <td>55794.0</td>\n",
              "    </tr>\n",
              "    <tr>\n",
              "      <th>12</th>\n",
              "      <td>4.0</td>\n",
              "      <td>56957.0</td>\n",
              "    </tr>\n",
              "    <tr>\n",
              "      <th>13</th>\n",
              "      <td>4.1</td>\n",
              "      <td>57081.0</td>\n",
              "    </tr>\n",
              "    <tr>\n",
              "      <th>14</th>\n",
              "      <td>4.5</td>\n",
              "      <td>61111.0</td>\n",
              "    </tr>\n",
              "    <tr>\n",
              "      <th>15</th>\n",
              "      <td>4.9</td>\n",
              "      <td>67938.0</td>\n",
              "    </tr>\n",
              "    <tr>\n",
              "      <th>16</th>\n",
              "      <td>5.1</td>\n",
              "      <td>66029.0</td>\n",
              "    </tr>\n",
              "    <tr>\n",
              "      <th>17</th>\n",
              "      <td>5.3</td>\n",
              "      <td>83088.0</td>\n",
              "    </tr>\n",
              "    <tr>\n",
              "      <th>18</th>\n",
              "      <td>5.9</td>\n",
              "      <td>81363.0</td>\n",
              "    </tr>\n",
              "    <tr>\n",
              "      <th>19</th>\n",
              "      <td>6.0</td>\n",
              "      <td>93940.0</td>\n",
              "    </tr>\n",
              "    <tr>\n",
              "      <th>20</th>\n",
              "      <td>6.8</td>\n",
              "      <td>91738.0</td>\n",
              "    </tr>\n",
              "    <tr>\n",
              "      <th>21</th>\n",
              "      <td>7.1</td>\n",
              "      <td>98273.0</td>\n",
              "    </tr>\n",
              "    <tr>\n",
              "      <th>22</th>\n",
              "      <td>7.9</td>\n",
              "      <td>101302.0</td>\n",
              "    </tr>\n",
              "    <tr>\n",
              "      <th>23</th>\n",
              "      <td>8.2</td>\n",
              "      <td>113812.0</td>\n",
              "    </tr>\n",
              "    <tr>\n",
              "      <th>24</th>\n",
              "      <td>8.7</td>\n",
              "      <td>109431.0</td>\n",
              "    </tr>\n",
              "    <tr>\n",
              "      <th>25</th>\n",
              "      <td>9.0</td>\n",
              "      <td>105582.0</td>\n",
              "    </tr>\n",
              "    <tr>\n",
              "      <th>26</th>\n",
              "      <td>9.5</td>\n",
              "      <td>116969.0</td>\n",
              "    </tr>\n",
              "    <tr>\n",
              "      <th>27</th>\n",
              "      <td>9.6</td>\n",
              "      <td>112635.0</td>\n",
              "    </tr>\n",
              "    <tr>\n",
              "      <th>28</th>\n",
              "      <td>10.3</td>\n",
              "      <td>122391.0</td>\n",
              "    </tr>\n",
              "    <tr>\n",
              "      <th>29</th>\n",
              "      <td>10.5</td>\n",
              "      <td>121872.0</td>\n",
              "    </tr>\n",
              "  </tbody>\n",
              "</table>\n",
              "</div>\n",
              "      <button class=\"colab-df-convert\" onclick=\"convertToInteractive('df-9e352126-9d16-4771-8e8b-6192f20262c2')\"\n",
              "              title=\"Convert this dataframe to an interactive table.\"\n",
              "              style=\"display:none;\">\n",
              "        \n",
              "  <svg xmlns=\"http://www.w3.org/2000/svg\" height=\"24px\"viewBox=\"0 0 24 24\"\n",
              "       width=\"24px\">\n",
              "    <path d=\"M0 0h24v24H0V0z\" fill=\"none\"/>\n",
              "    <path d=\"M18.56 5.44l.94 2.06.94-2.06 2.06-.94-2.06-.94-.94-2.06-.94 2.06-2.06.94zm-11 1L8.5 8.5l.94-2.06 2.06-.94-2.06-.94L8.5 2.5l-.94 2.06-2.06.94zm10 10l.94 2.06.94-2.06 2.06-.94-2.06-.94-.94-2.06-.94 2.06-2.06.94z\"/><path d=\"M17.41 7.96l-1.37-1.37c-.4-.4-.92-.59-1.43-.59-.52 0-1.04.2-1.43.59L10.3 9.45l-7.72 7.72c-.78.78-.78 2.05 0 2.83L4 21.41c.39.39.9.59 1.41.59.51 0 1.02-.2 1.41-.59l7.78-7.78 2.81-2.81c.8-.78.8-2.07 0-2.86zM5.41 20L4 18.59l7.72-7.72 1.47 1.35L5.41 20z\"/>\n",
              "  </svg>\n",
              "      </button>\n",
              "      \n",
              "  <style>\n",
              "    .colab-df-container {\n",
              "      display:flex;\n",
              "      flex-wrap:wrap;\n",
              "      gap: 12px;\n",
              "    }\n",
              "\n",
              "    .colab-df-convert {\n",
              "      background-color: #E8F0FE;\n",
              "      border: none;\n",
              "      border-radius: 50%;\n",
              "      cursor: pointer;\n",
              "      display: none;\n",
              "      fill: #1967D2;\n",
              "      height: 32px;\n",
              "      padding: 0 0 0 0;\n",
              "      width: 32px;\n",
              "    }\n",
              "\n",
              "    .colab-df-convert:hover {\n",
              "      background-color: #E2EBFA;\n",
              "      box-shadow: 0px 1px 2px rgba(60, 64, 67, 0.3), 0px 1px 3px 1px rgba(60, 64, 67, 0.15);\n",
              "      fill: #174EA6;\n",
              "    }\n",
              "\n",
              "    [theme=dark] .colab-df-convert {\n",
              "      background-color: #3B4455;\n",
              "      fill: #D2E3FC;\n",
              "    }\n",
              "\n",
              "    [theme=dark] .colab-df-convert:hover {\n",
              "      background-color: #434B5C;\n",
              "      box-shadow: 0px 1px 3px 1px rgba(0, 0, 0, 0.15);\n",
              "      filter: drop-shadow(0px 1px 2px rgba(0, 0, 0, 0.3));\n",
              "      fill: #FFFFFF;\n",
              "    }\n",
              "  </style>\n",
              "\n",
              "      <script>\n",
              "        const buttonEl =\n",
              "          document.querySelector('#df-9e352126-9d16-4771-8e8b-6192f20262c2 button.colab-df-convert');\n",
              "        buttonEl.style.display =\n",
              "          google.colab.kernel.accessAllowed ? 'block' : 'none';\n",
              "\n",
              "        async function convertToInteractive(key) {\n",
              "          const element = document.querySelector('#df-9e352126-9d16-4771-8e8b-6192f20262c2');\n",
              "          const dataTable =\n",
              "            await google.colab.kernel.invokeFunction('convertToInteractive',\n",
              "                                                     [key], {});\n",
              "          if (!dataTable) return;\n",
              "\n",
              "          const docLinkHtml = 'Like what you see? Visit the ' +\n",
              "            '<a target=\"_blank\" href=https://colab.research.google.com/notebooks/data_table.ipynb>data table notebook</a>'\n",
              "            + ' to learn more about interactive tables.';\n",
              "          element.innerHTML = '';\n",
              "          dataTable['output_type'] = 'display_data';\n",
              "          await google.colab.output.renderOutput(dataTable, element);\n",
              "          const docLink = document.createElement('div');\n",
              "          docLink.innerHTML = docLinkHtml;\n",
              "          element.appendChild(docLink);\n",
              "        }\n",
              "      </script>\n",
              "    </div>\n",
              "  </div>\n",
              "  "
            ]
          },
          "metadata": {},
          "execution_count": 23
        }
      ]
    },
    {
      "cell_type": "code",
      "source": [
        "x=data.iloc[:,0:1]\n",
        "y=data.iloc[:,1:]\n",
        "print(x)\n",
        "print(y)"
      ],
      "metadata": {
        "colab": {
          "base_uri": "https://localhost:8080/"
        },
        "id": "XH5KSe50rXnI",
        "outputId": "224a5517-046c-4651-dafd-32da48370ba8"
      },
      "execution_count": 24,
      "outputs": [
        {
          "output_type": "stream",
          "name": "stdout",
          "text": [
            "    YearsExperience\n",
            "0               1.1\n",
            "1               1.3\n",
            "2               1.5\n",
            "3               2.0\n",
            "4               2.2\n",
            "5               2.9\n",
            "6               3.0\n",
            "7               3.2\n",
            "8               3.2\n",
            "9               3.7\n",
            "10              3.9\n",
            "11              4.0\n",
            "12              4.0\n",
            "13              4.1\n",
            "14              4.5\n",
            "15              4.9\n",
            "16              5.1\n",
            "17              5.3\n",
            "18              5.9\n",
            "19              6.0\n",
            "20              6.8\n",
            "21              7.1\n",
            "22              7.9\n",
            "23              8.2\n",
            "24              8.7\n",
            "25              9.0\n",
            "26              9.5\n",
            "27              9.6\n",
            "28             10.3\n",
            "29             10.5\n",
            "      Salary\n",
            "0    39343.0\n",
            "1    46205.0\n",
            "2    37731.0\n",
            "3    43525.0\n",
            "4    39891.0\n",
            "5    56642.0\n",
            "6    60150.0\n",
            "7    54445.0\n",
            "8    64445.0\n",
            "9    57189.0\n",
            "10   63218.0\n",
            "11   55794.0\n",
            "12   56957.0\n",
            "13   57081.0\n",
            "14   61111.0\n",
            "15   67938.0\n",
            "16   66029.0\n",
            "17   83088.0\n",
            "18   81363.0\n",
            "19   93940.0\n",
            "20   91738.0\n",
            "21   98273.0\n",
            "22  101302.0\n",
            "23  113812.0\n",
            "24  109431.0\n",
            "25  105582.0\n",
            "26  116969.0\n",
            "27  112635.0\n",
            "28  122391.0\n",
            "29  121872.0\n"
          ]
        }
      ]
    },
    {
      "cell_type": "code",
      "source": [
        "x"
      ],
      "metadata": {
        "colab": {
          "base_uri": "https://localhost:8080/",
          "height": 990
        },
        "id": "BhRL3YmxrgGM",
        "outputId": "202f2236-3fe7-468f-c076-cf412c1853e0"
      },
      "execution_count": 25,
      "outputs": [
        {
          "output_type": "execute_result",
          "data": {
            "text/plain": [
              "    YearsExperience\n",
              "0               1.1\n",
              "1               1.3\n",
              "2               1.5\n",
              "3               2.0\n",
              "4               2.2\n",
              "5               2.9\n",
              "6               3.0\n",
              "7               3.2\n",
              "8               3.2\n",
              "9               3.7\n",
              "10              3.9\n",
              "11              4.0\n",
              "12              4.0\n",
              "13              4.1\n",
              "14              4.5\n",
              "15              4.9\n",
              "16              5.1\n",
              "17              5.3\n",
              "18              5.9\n",
              "19              6.0\n",
              "20              6.8\n",
              "21              7.1\n",
              "22              7.9\n",
              "23              8.2\n",
              "24              8.7\n",
              "25              9.0\n",
              "26              9.5\n",
              "27              9.6\n",
              "28             10.3\n",
              "29             10.5"
            ],
            "text/html": [
              "\n",
              "  <div id=\"df-507bda6b-4189-4d7b-80b5-b23b156c54e5\">\n",
              "    <div class=\"colab-df-container\">\n",
              "      <div>\n",
              "<style scoped>\n",
              "    .dataframe tbody tr th:only-of-type {\n",
              "        vertical-align: middle;\n",
              "    }\n",
              "\n",
              "    .dataframe tbody tr th {\n",
              "        vertical-align: top;\n",
              "    }\n",
              "\n",
              "    .dataframe thead th {\n",
              "        text-align: right;\n",
              "    }\n",
              "</style>\n",
              "<table border=\"1\" class=\"dataframe\">\n",
              "  <thead>\n",
              "    <tr style=\"text-align: right;\">\n",
              "      <th></th>\n",
              "      <th>YearsExperience</th>\n",
              "    </tr>\n",
              "  </thead>\n",
              "  <tbody>\n",
              "    <tr>\n",
              "      <th>0</th>\n",
              "      <td>1.1</td>\n",
              "    </tr>\n",
              "    <tr>\n",
              "      <th>1</th>\n",
              "      <td>1.3</td>\n",
              "    </tr>\n",
              "    <tr>\n",
              "      <th>2</th>\n",
              "      <td>1.5</td>\n",
              "    </tr>\n",
              "    <tr>\n",
              "      <th>3</th>\n",
              "      <td>2.0</td>\n",
              "    </tr>\n",
              "    <tr>\n",
              "      <th>4</th>\n",
              "      <td>2.2</td>\n",
              "    </tr>\n",
              "    <tr>\n",
              "      <th>5</th>\n",
              "      <td>2.9</td>\n",
              "    </tr>\n",
              "    <tr>\n",
              "      <th>6</th>\n",
              "      <td>3.0</td>\n",
              "    </tr>\n",
              "    <tr>\n",
              "      <th>7</th>\n",
              "      <td>3.2</td>\n",
              "    </tr>\n",
              "    <tr>\n",
              "      <th>8</th>\n",
              "      <td>3.2</td>\n",
              "    </tr>\n",
              "    <tr>\n",
              "      <th>9</th>\n",
              "      <td>3.7</td>\n",
              "    </tr>\n",
              "    <tr>\n",
              "      <th>10</th>\n",
              "      <td>3.9</td>\n",
              "    </tr>\n",
              "    <tr>\n",
              "      <th>11</th>\n",
              "      <td>4.0</td>\n",
              "    </tr>\n",
              "    <tr>\n",
              "      <th>12</th>\n",
              "      <td>4.0</td>\n",
              "    </tr>\n",
              "    <tr>\n",
              "      <th>13</th>\n",
              "      <td>4.1</td>\n",
              "    </tr>\n",
              "    <tr>\n",
              "      <th>14</th>\n",
              "      <td>4.5</td>\n",
              "    </tr>\n",
              "    <tr>\n",
              "      <th>15</th>\n",
              "      <td>4.9</td>\n",
              "    </tr>\n",
              "    <tr>\n",
              "      <th>16</th>\n",
              "      <td>5.1</td>\n",
              "    </tr>\n",
              "    <tr>\n",
              "      <th>17</th>\n",
              "      <td>5.3</td>\n",
              "    </tr>\n",
              "    <tr>\n",
              "      <th>18</th>\n",
              "      <td>5.9</td>\n",
              "    </tr>\n",
              "    <tr>\n",
              "      <th>19</th>\n",
              "      <td>6.0</td>\n",
              "    </tr>\n",
              "    <tr>\n",
              "      <th>20</th>\n",
              "      <td>6.8</td>\n",
              "    </tr>\n",
              "    <tr>\n",
              "      <th>21</th>\n",
              "      <td>7.1</td>\n",
              "    </tr>\n",
              "    <tr>\n",
              "      <th>22</th>\n",
              "      <td>7.9</td>\n",
              "    </tr>\n",
              "    <tr>\n",
              "      <th>23</th>\n",
              "      <td>8.2</td>\n",
              "    </tr>\n",
              "    <tr>\n",
              "      <th>24</th>\n",
              "      <td>8.7</td>\n",
              "    </tr>\n",
              "    <tr>\n",
              "      <th>25</th>\n",
              "      <td>9.0</td>\n",
              "    </tr>\n",
              "    <tr>\n",
              "      <th>26</th>\n",
              "      <td>9.5</td>\n",
              "    </tr>\n",
              "    <tr>\n",
              "      <th>27</th>\n",
              "      <td>9.6</td>\n",
              "    </tr>\n",
              "    <tr>\n",
              "      <th>28</th>\n",
              "      <td>10.3</td>\n",
              "    </tr>\n",
              "    <tr>\n",
              "      <th>29</th>\n",
              "      <td>10.5</td>\n",
              "    </tr>\n",
              "  </tbody>\n",
              "</table>\n",
              "</div>\n",
              "      <button class=\"colab-df-convert\" onclick=\"convertToInteractive('df-507bda6b-4189-4d7b-80b5-b23b156c54e5')\"\n",
              "              title=\"Convert this dataframe to an interactive table.\"\n",
              "              style=\"display:none;\">\n",
              "        \n",
              "  <svg xmlns=\"http://www.w3.org/2000/svg\" height=\"24px\"viewBox=\"0 0 24 24\"\n",
              "       width=\"24px\">\n",
              "    <path d=\"M0 0h24v24H0V0z\" fill=\"none\"/>\n",
              "    <path d=\"M18.56 5.44l.94 2.06.94-2.06 2.06-.94-2.06-.94-.94-2.06-.94 2.06-2.06.94zm-11 1L8.5 8.5l.94-2.06 2.06-.94-2.06-.94L8.5 2.5l-.94 2.06-2.06.94zm10 10l.94 2.06.94-2.06 2.06-.94-2.06-.94-.94-2.06-.94 2.06-2.06.94z\"/><path d=\"M17.41 7.96l-1.37-1.37c-.4-.4-.92-.59-1.43-.59-.52 0-1.04.2-1.43.59L10.3 9.45l-7.72 7.72c-.78.78-.78 2.05 0 2.83L4 21.41c.39.39.9.59 1.41.59.51 0 1.02-.2 1.41-.59l7.78-7.78 2.81-2.81c.8-.78.8-2.07 0-2.86zM5.41 20L4 18.59l7.72-7.72 1.47 1.35L5.41 20z\"/>\n",
              "  </svg>\n",
              "      </button>\n",
              "      \n",
              "  <style>\n",
              "    .colab-df-container {\n",
              "      display:flex;\n",
              "      flex-wrap:wrap;\n",
              "      gap: 12px;\n",
              "    }\n",
              "\n",
              "    .colab-df-convert {\n",
              "      background-color: #E8F0FE;\n",
              "      border: none;\n",
              "      border-radius: 50%;\n",
              "      cursor: pointer;\n",
              "      display: none;\n",
              "      fill: #1967D2;\n",
              "      height: 32px;\n",
              "      padding: 0 0 0 0;\n",
              "      width: 32px;\n",
              "    }\n",
              "\n",
              "    .colab-df-convert:hover {\n",
              "      background-color: #E2EBFA;\n",
              "      box-shadow: 0px 1px 2px rgba(60, 64, 67, 0.3), 0px 1px 3px 1px rgba(60, 64, 67, 0.15);\n",
              "      fill: #174EA6;\n",
              "    }\n",
              "\n",
              "    [theme=dark] .colab-df-convert {\n",
              "      background-color: #3B4455;\n",
              "      fill: #D2E3FC;\n",
              "    }\n",
              "\n",
              "    [theme=dark] .colab-df-convert:hover {\n",
              "      background-color: #434B5C;\n",
              "      box-shadow: 0px 1px 3px 1px rgba(0, 0, 0, 0.15);\n",
              "      filter: drop-shadow(0px 1px 2px rgba(0, 0, 0, 0.3));\n",
              "      fill: #FFFFFF;\n",
              "    }\n",
              "  </style>\n",
              "\n",
              "      <script>\n",
              "        const buttonEl =\n",
              "          document.querySelector('#df-507bda6b-4189-4d7b-80b5-b23b156c54e5 button.colab-df-convert');\n",
              "        buttonEl.style.display =\n",
              "          google.colab.kernel.accessAllowed ? 'block' : 'none';\n",
              "\n",
              "        async function convertToInteractive(key) {\n",
              "          const element = document.querySelector('#df-507bda6b-4189-4d7b-80b5-b23b156c54e5');\n",
              "          const dataTable =\n",
              "            await google.colab.kernel.invokeFunction('convertToInteractive',\n",
              "                                                     [key], {});\n",
              "          if (!dataTable) return;\n",
              "\n",
              "          const docLinkHtml = 'Like what you see? Visit the ' +\n",
              "            '<a target=\"_blank\" href=https://colab.research.google.com/notebooks/data_table.ipynb>data table notebook</a>'\n",
              "            + ' to learn more about interactive tables.';\n",
              "          element.innerHTML = '';\n",
              "          dataTable['output_type'] = 'display_data';\n",
              "          await google.colab.output.renderOutput(dataTable, element);\n",
              "          const docLink = document.createElement('div');\n",
              "          docLink.innerHTML = docLinkHtml;\n",
              "          element.appendChild(docLink);\n",
              "        }\n",
              "      </script>\n",
              "    </div>\n",
              "  </div>\n",
              "  "
            ]
          },
          "metadata": {},
          "execution_count": 25
        }
      ]
    },
    {
      "cell_type": "code",
      "source": [
        "plt.scatter(x,y)"
      ],
      "metadata": {
        "colab": {
          "base_uri": "https://localhost:8080/",
          "height": 282
        },
        "id": "l09HIKPrriUp",
        "outputId": "aedb45eb-4cb8-4b57-da29-0e466d93b06b"
      },
      "execution_count": 26,
      "outputs": [
        {
          "output_type": "execute_result",
          "data": {
            "text/plain": [
              "<matplotlib.collections.PathCollection at 0x7f2082bc7910>"
            ]
          },
          "metadata": {},
          "execution_count": 26
        },
        {
          "output_type": "display_data",
          "data": {
            "text/plain": [
              "<Figure size 432x288 with 1 Axes>"
            ],
            "image/png": "[encoded data removed]"
          },
          "metadata": {
            "needs_background": "light"
          }
        }
      ]
    },
    {
      "cell_type": "code",
      "source": [
        "plt.plot(x,y)"
      ],
      "metadata": {
        "colab": {
          "base_uri": "https://localhost:8080/",
          "height": 282
        },
        "id": "icxthCt9roQC",
        "outputId": "8e78a7ec-942d-4c2a-ef35-82451a9df993"
      },
      "execution_count": 27,
      "outputs": [
        {
          "output_type": "execute_result",
          "data": {
            "text/plain": [
              "[<matplotlib.lines.Line2D at 0x7f2082e6b850>]"
            ]
          },
          "metadata": {},
          "execution_count": 27
        },
        {
          "output_type": "display_data",
          "data": {
            "text/plain": [
              "<Figure size 432x288 with 1 Axes>"
            ],
            "image/png": "[encoded data removed]"
          },
          "metadata": {
            "needs_background": "light"
          }
        }
      ]
    },
    {
      "cell_type": "code",
      "source": [
        "xnp=x.values\n",
        "ynp=y.values"
      ],
      "metadata": {
        "id": "TPp5_4qisS-g"
      },
      "execution_count": 46,
      "outputs": []
    },
    {
      "cell_type": "code",
      "source": [
        "xnp=xnp.reshape(-1,)\n",
        "xnp.shape"
      ],
      "metadata": {
        "colab": {
          "base_uri": "https://localhost:8080/"
        },
        "id": "cmok9ULhu6nD",
        "outputId": "cd59e9a5-5363-4b94-83d5-cb6291fe95ba"
      },
      "execution_count": 50,
      "outputs": [
        {
          "output_type": "execute_result",
          "data": {
            "text/plain": [
              "(30,)"
            ]
          },
          "metadata": {},
          "execution_count": 50
        }
      ]
    },
    {
      "cell_type": "code",
      "source": [
        "ynp=ynp.reshape(-1,)\n",
        "ynp.shape"
      ],
      "metadata": {
        "colab": {
          "base_uri": "https://localhost:8080/"
        },
        "id": "H4H2DcbrvFaC",
        "outputId": "20b36ded-b8f9-4ace-d707-2bff43c3e7d4"
      },
      "execution_count": 51,
      "outputs": [
        {
          "output_type": "execute_result",
          "data": {
            "text/plain": [
              "(30,)"
            ]
          },
          "metadata": {},
          "execution_count": 51
        }
      ]
    },
    {
      "cell_type": "code",
      "source": [
        ""
      ],
      "metadata": {
        "id": "fy7ucOD1uYSV"
      },
      "execution_count": 40,
      "outputs": []
    },
    {
      "cell_type": "code",
      "source": [
        "fig, ax = plt.subplots()\n",
        "ax.hist(ynp,xnp)"
      ],
      "metadata": {
        "colab": {
          "base_uri": "https://localhost:8080/",
          "height": 369
        },
        "id": "urGAsxEbtPcF",
        "outputId": "8aacf5d5-d756-489f-87a0-62f3a3821d88"
      },
      "execution_count": 56,
      "outputs": [
        {
          "output_type": "execute_result",
          "data": {
            "text/plain": [
              "(array([0., 0., 0., 0., 0., 0., 0., 0., 0., 0., 0., 0., 0., 0., 0., 0., 0.,\n",
              "        0., 0., 0., 0., 0., 0., 0., 0., 0., 0., 0., 0.]),\n",
              " array([ 1.1,  1.3,  1.5,  2. ,  2.2,  2.9,  3. ,  3.2,  3.2,  3.7,  3.9,\n",
              "         4. ,  4. ,  4.1,  4.5,  4.9,  5.1,  5.3,  5.9,  6. ,  6.8,  7.1,\n",
              "         7.9,  8.2,  8.7,  9. ,  9.5,  9.6, 10.3, 10.5]),\n",
              " <a list of 29 Patch objects>)"
            ]
          },
          "metadata": {},
          "execution_count": 56
        },
        {
          "output_type": "display_data",
          "data": {
            "text/plain": [
              "<Figure size 432x288 with 1 Axes>"
            ],
            "image/png": "[encoded data removed]"
          },
          "metadata": {
            "needs_background": "light"
          }
        }
      ]
    },
    {
      "cell_type": "code",
      "source": [
        "import seaborn as sns"
      ],
      "metadata": {
        "id": "4vVCa9Fhtblh"
      },
      "execution_count": 59,
      "outputs": []
    },
    {
      "cell_type": "code",
      "source": [
        "plt.imshow( data , cmap = 'autumn' , interpolation = 'nearest' )\n",
        "  \n",
        "plt.title( \"2-D Heat Map\" )\n",
        "plt.show()"
      ],
      "metadata": {
        "colab": {
          "base_uri": "https://localhost:8080/",
          "height": 281
        },
        "id": "Y-uVSjTqthud",
        "outputId": "aeafde8c-b248-4994-9bac-babfbc6cd5e7"
      },
      "execution_count": 62,
      "outputs": [
        {
          "output_type": "display_data",
          "data": {
            "text/plain": [
              "<Figure size 432x288 with 1 Axes>"
            ],
            "image/png": "[encoded data removed]"
          },
          "metadata": {
            "needs_background": "light"
          }
        }
      ]
    },
    {
      "cell_type": "code",
      "source": [
        "plt.boxplot(data)"
      ],
      "metadata": {
        "colab": {
          "base_uri": "https://localhost:8080/",
          "height": 1000
        },
        "id": "dxzcnXfIswyT",
        "outputId": "232b383d-be6b-4e55-81c0-c866f37c3426"
      },
      "execution_count": 63,
      "outputs": [
        {
          "output_type": "execute_result",
          "data": {
            "text/plain": [
              "{'boxes': [<matplotlib.lines.Line2D at 0x7f207376e990>,\n",
              "  <matplotlib.lines.Line2D at 0x7f2073759e90>,\n",
              "  <matplotlib.lines.Line2D at 0x7f2073752150>,\n",
              "  <matplotlib.lines.Line2D at 0x7f207373b450>,\n",
              "  <matplotlib.lines.Line2D at 0x7f207374d990>,\n",
              "  <matplotlib.lines.Line2D at 0x7f20736def10>,\n",
              "  <matplotlib.lines.Line2D at 0x7f20736f7490>,\n",
              "  <matplotlib.lines.Line2D at 0x7f20737099d0>,\n",
              "  <matplotlib.lines.Line2D at 0x7f207369ced0>,\n",
              "  <matplotlib.lines.Line2D at 0x7f20736b6390>,\n",
              "  <matplotlib.lines.Line2D at 0x7f20736c58d0>,\n",
              "  <matplotlib.lines.Line2D at 0x7f2073656e10>,\n",
              "  <matplotlib.lines.Line2D at 0x7f2073671390>,\n",
              "  <matplotlib.lines.Line2D at 0x7f20736828d0>,\n",
              "  <matplotlib.lines.Line2D at 0x7f2073614e10>,\n",
              "  <matplotlib.lines.Line2D at 0x7f207362d390>,\n",
              "  <matplotlib.lines.Line2D at 0x7f207363f8d0>,\n",
              "  <matplotlib.lines.Line2D at 0x7f20735cfe10>,\n",
              "  <matplotlib.lines.Line2D at 0x7f20735e9390>,\n",
              "  <matplotlib.lines.Line2D at 0x7f20735fa8d0>,\n",
              "  <matplotlib.lines.Line2D at 0x7f207360be10>,\n",
              "  <matplotlib.lines.Line2D at 0x7f20735a6390>,\n",
              "  <matplotlib.lines.Line2D at 0x7f20735b68d0>,\n",
              "  <matplotlib.lines.Line2D at 0x7f2073682650>,\n",
              "  <matplotlib.lines.Line2D at 0x7f2073cbfdd0>,\n",
              "  <matplotlib.lines.Line2D at 0x7f20737960d0>,\n",
              "  <matplotlib.lines.Line2D at 0x7f2073790d10>,\n",
              "  <matplotlib.lines.Line2D at 0x7f2073d37b10>,\n",
              "  <matplotlib.lines.Line2D at 0x7f2073c95c90>,\n",
              "  <matplotlib.lines.Line2D at 0x7f2073c9c350>],\n",
              " 'caps': [<matplotlib.lines.Line2D at 0x7f2073757b90>,\n",
              "  <matplotlib.lines.Line2D at 0x7f2073754f90>,\n",
              "  <matplotlib.lines.Line2D at 0x7f2073756ad0>,\n",
              "  <matplotlib.lines.Line2D at 0x7f2073756ed0>,\n",
              "  <matplotlib.lines.Line2D at 0x7f2073764390>,\n",
              "  <matplotlib.lines.Line2D at 0x7f2073735490>,\n",
              "  <matplotlib.lines.Line2D at 0x7f2073744450>,\n",
              "  <matplotlib.lines.Line2D at 0x7f2073744990>,\n",
              "  <matplotlib.lines.Line2D at 0x7f20736d59d0>,\n",
              "  <matplotlib.lines.Line2D at 0x7f20736d5ed0>,\n",
              "  <matplotlib.lines.Line2D at 0x7f20736e7f50>,\n",
              "  <matplotlib.lines.Line2D at 0x7f20736ee4d0>,\n",
              "  <matplotlib.lines.Line2D at 0x7f20737004d0>,\n",
              "  <matplotlib.lines.Line2D at 0x7f2073700a10>,\n",
              "  <matplotlib.lines.Line2D at 0x7f2073690a10>,\n",
              "  <matplotlib.lines.Line2D at 0x7f2073690f50>,\n",
              "  <matplotlib.lines.Line2D at 0x7f20736a3ed0>,\n",
              "  <matplotlib.lines.Line2D at 0x7f20736ab450>,\n",
              "  <matplotlib.lines.Line2D at 0x7f20736be3d0>,\n",
              "  <matplotlib.lines.Line2D at 0x7f20736be910>,\n",
              "  <matplotlib.lines.Line2D at 0x7f207364f910>,\n",
              "  <matplotlib.lines.Line2D at 0x7f207364fe50>,\n",
              "  <matplotlib.lines.Line2D at 0x7f2073660e50>,\n",
              "  <matplotlib.lines.Line2D at 0x7f20736693d0>,\n",
              "  <matplotlib.lines.Line2D at 0x7f20736783d0>,\n",
              "  <matplotlib.lines.Line2D at 0x7f2073678910>,\n",
              "  <matplotlib.lines.Line2D at 0x7f207368c910>,\n",
              "  <matplotlib.lines.Line2D at 0x7f207368ce50>,\n",
              "  <matplotlib.lines.Line2D at 0x7f207361de50>,\n",
              "  <matplotlib.lines.Line2D at 0x7f20736253d0>,\n",
              "  <matplotlib.lines.Line2D at 0x7f20736363d0>,\n",
              "  <matplotlib.lines.Line2D at 0x7f2073636910>,\n",
              "  <matplotlib.lines.Line2D at 0x7f2073646910>,\n",
              "  <matplotlib.lines.Line2D at 0x7f2073646e50>,\n",
              "  <matplotlib.lines.Line2D at 0x7f20735d8e50>,\n",
              "  <matplotlib.lines.Line2D at 0x7f20735e03d0>,\n",
              "  <matplotlib.lines.Line2D at 0x7f20735f13d0>,\n",
              "  <matplotlib.lines.Line2D at 0x7f20735f1910>,\n",
              "  <matplotlib.lines.Line2D at 0x7f2073603910>,\n",
              "  <matplotlib.lines.Line2D at 0x7f2073603e50>,\n",
              "  <matplotlib.lines.Line2D at 0x7f2073594e50>,\n",
              "  <matplotlib.lines.Line2D at 0x7f207359e3d0>,\n",
              "  <matplotlib.lines.Line2D at 0x7f20735ae3d0>,\n",
              "  <matplotlib.lines.Line2D at 0x7f20735ae910>,\n",
              "  <matplotlib.lines.Line2D at 0x7f2073759890>,\n",
              "  <matplotlib.lines.Line2D at 0x7f207374d1d0>,\n",
              "  <matplotlib.lines.Line2D at 0x7f2073750310>,\n",
              "  <matplotlib.lines.Line2D at 0x7f2073e19e50>,\n",
              "  <matplotlib.lines.Line2D at 0x7f2073c7df10>,\n",
              "  <matplotlib.lines.Line2D at 0x7f2073d5a150>,\n",
              "  <matplotlib.lines.Line2D at 0x7f2073c7e110>,\n",
              "  <matplotlib.lines.Line2D at 0x7f207379f150>,\n",
              "  <matplotlib.lines.Line2D at 0x7f2073e10b50>,\n",
              "  <matplotlib.lines.Line2D at 0x7f2073c6df50>,\n",
              "  <matplotlib.lines.Line2D at 0x7f2073c67450>,\n",
              "  <matplotlib.lines.Line2D at 0x7f2073dfb0d0>,\n",
              "  <matplotlib.lines.Line2D at 0x7f2073c85250>,\n",
              "  <matplotlib.lines.Line2D at 0x7f2073c85f90>,\n",
              "  <matplotlib.lines.Line2D at 0x7f20827ff190>,\n",
              "  <matplotlib.lines.Line2D at 0x7f20829152d0>],\n",
              " 'fliers': [<matplotlib.lines.Line2D at 0x7f2073759f90>,\n",
              "  <matplotlib.lines.Line2D at 0x7f2073752910>,\n",
              "  <matplotlib.lines.Line2D at 0x7f2073735f10>,\n",
              "  <matplotlib.lines.Line2D at 0x7f207374d450>,\n",
              "  <matplotlib.lines.Line2D at 0x7f20736de9d0>,\n",
              "  <matplotlib.lines.Line2D at 0x7f20736eef50>,\n",
              "  <matplotlib.lines.Line2D at 0x7f20737094d0>,\n",
              "  <matplotlib.lines.Line2D at 0x7f207369ca10>,\n",
              "  <matplotlib.lines.Line2D at 0x7f20736abe90>,\n",
              "  <matplotlib.lines.Line2D at 0x7f20736c53d0>,\n",
              "  <matplotlib.lines.Line2D at 0x7f2073656910>,\n",
              "  <matplotlib.lines.Line2D at 0x7f2073669e50>,\n",
              "  <matplotlib.lines.Line2D at 0x7f20736823d0>,\n",
              "  <matplotlib.lines.Line2D at 0x7f2073614910>,\n",
              "  <matplotlib.lines.Line2D at 0x7f2073625e50>,\n",
              "  <matplotlib.lines.Line2D at 0x7f207363f3d0>,\n",
              "  <matplotlib.lines.Line2D at 0x7f20735cf910>,\n",
              "  <matplotlib.lines.Line2D at 0x7f20735e0e50>,\n",
              "  <matplotlib.lines.Line2D at 0x7f20735fa3d0>,\n",
              "  <matplotlib.lines.Line2D at 0x7f207360b910>,\n",
              "  <matplotlib.lines.Line2D at 0x7f207359ee50>,\n",
              "  <matplotlib.lines.Line2D at 0x7f20735b63d0>,\n",
              "  <matplotlib.lines.Line2D at 0x7f20736c5650>,\n",
              "  <matplotlib.lines.Line2D at 0x7f2073deed50>,\n",
              "  <matplotlib.lines.Line2D at 0x7f20737af490>,\n",
              "  <matplotlib.lines.Line2D at 0x7f207379fc90>,\n",
              "  <matplotlib.lines.Line2D at 0x7f20737a7590>,\n",
              "  <matplotlib.lines.Line2D at 0x7f2073c95890>,\n",
              "  <matplotlib.lines.Line2D at 0x7f2073c9c550>,\n",
              "  <matplotlib.lines.Line2D at 0x7f208273af10>],\n",
              " 'means': [],\n",
              " 'medians': [<matplotlib.lines.Line2D at 0x7f2073754310>,\n",
              "  <matplotlib.lines.Line2D at 0x7f2073752750>,\n",
              "  <matplotlib.lines.Line2D at 0x7f20737359d0>,\n",
              "  <matplotlib.lines.Line2D at 0x7f2073744ed0>,\n",
              "  <matplotlib.lines.Line2D at 0x7f20736de450>,\n",
              "  <matplotlib.lines.Line2D at 0x7f20736eea10>,\n",
              "  <matplotlib.lines.Line2D at 0x7f2073700f50>,\n",
              "  <matplotlib.lines.Line2D at 0x7f207369c4d0>,\n",
              "  <matplotlib.lines.Line2D at 0x7f20736ab990>,\n",
              "  <matplotlib.lines.Line2D at 0x7f20736bee50>,\n",
              "  <matplotlib.lines.Line2D at 0x7f20736563d0>,\n",
              "  <matplotlib.lines.Line2D at 0x7f2073669910>,\n",
              "  <matplotlib.lines.Line2D at 0x7f2073678e50>,\n",
              "  <matplotlib.lines.Line2D at 0x7f20736143d0>,\n",
              "  <matplotlib.lines.Line2D at 0x7f2073625910>,\n",
              "  <matplotlib.lines.Line2D at 0x7f2073636e50>,\n",
              "  <matplotlib.lines.Line2D at 0x7f20735cf3d0>,\n",
              "  <matplotlib.lines.Line2D at 0x7f20735e0910>,\n",
              "  <matplotlib.lines.Line2D at 0x7f20735f1e50>,\n",
              "  <matplotlib.lines.Line2D at 0x7f207360b3d0>,\n",
              "  <matplotlib.lines.Line2D at 0x7f207359e910>,\n",
              "  <matplotlib.lines.Line2D at 0x7f20735aee50>,\n",
              "  <matplotlib.lines.Line2D at 0x7f2073709750>,\n",
              "  <matplotlib.lines.Line2D at 0x7f20737c8bd0>,\n",
              "  <matplotlib.lines.Line2D at 0x7f20737afb50>,\n",
              "  <matplotlib.lines.Line2D at 0x7f207379f5d0>,\n",
              "  <matplotlib.lines.Line2D at 0x7f20737a7090>,\n",
              "  <matplotlib.lines.Line2D at 0x7f2073c95cd0>,\n",
              "  <matplotlib.lines.Line2D at 0x7f2073c9c0d0>,\n",
              "  <matplotlib.lines.Line2D at 0x7f2082806e90>],\n",
              " 'whiskers': [<matplotlib.lines.Line2D at 0x7f2073d5abd0>,\n",
              "  <matplotlib.lines.Line2D at 0x7f2073757d10>,\n",
              "  <matplotlib.lines.Line2D at 0x7f2073759110>,\n",
              "  <matplotlib.lines.Line2D at 0x7f2073756050>,\n",
              "  <matplotlib.lines.Line2D at 0x7f2073764590>,\n",
              "  <matplotlib.lines.Line2D at 0x7f2073764cd0>,\n",
              "  <matplotlib.lines.Line2D at 0x7f207373b9d0>,\n",
              "  <matplotlib.lines.Line2D at 0x7f207373bf10>,\n",
              "  <matplotlib.lines.Line2D at 0x7f207374df50>,\n",
              "  <matplotlib.lines.Line2D at 0x7f20736d5490>,\n",
              "  <matplotlib.lines.Line2D at 0x7f20736e74d0>,\n",
              "  <matplotlib.lines.Line2D at 0x7f20736e7a10>,\n",
              "  <matplotlib.lines.Line2D at 0x7f20736f7a10>,\n",
              "  <matplotlib.lines.Line2D at 0x7f20736f7f50>,\n",
              "  <matplotlib.lines.Line2D at 0x7f2073709f50>,\n",
              "  <matplotlib.lines.Line2D at 0x7f20736904d0>,\n",
              "  <matplotlib.lines.Line2D at 0x7f20736a3450>,\n",
              "  <matplotlib.lines.Line2D at 0x7f20736a3990>,\n",
              "  <matplotlib.lines.Line2D at 0x7f20736b6910>,\n",
              "  <matplotlib.lines.Line2D at 0x7f20736b6e50>,\n",
              "  <matplotlib.lines.Line2D at 0x7f20736c5e50>,\n",
              "  <matplotlib.lines.Line2D at 0x7f207364f3d0>,\n",
              "  <matplotlib.lines.Line2D at 0x7f20736603d0>,\n",
              "  <matplotlib.lines.Line2D at 0x7f2073660910>,\n",
              "  <matplotlib.lines.Line2D at 0x7f2073671910>,\n",
              "  <matplotlib.lines.Line2D at 0x7f2073671e50>,\n",
              "  <matplotlib.lines.Line2D at 0x7f2073682e50>,\n",
              "  <matplotlib.lines.Line2D at 0x7f207368c3d0>,\n",
              "  <matplotlib.lines.Line2D at 0x7f207361d3d0>,\n",
              "  <matplotlib.lines.Line2D at 0x7f207361d910>,\n",
              "  <matplotlib.lines.Line2D at 0x7f207362d910>,\n",
              "  <matplotlib.lines.Line2D at 0x7f207362de50>,\n",
              "  <matplotlib.lines.Line2D at 0x7f207363fe50>,\n",
              "  <matplotlib.lines.Line2D at 0x7f20736463d0>,\n",
              "  <matplotlib.lines.Line2D at 0x7f20735d83d0>,\n",
              "  <matplotlib.lines.Line2D at 0x7f20735d8910>,\n",
              "  <matplotlib.lines.Line2D at 0x7f20735e9910>,\n",
              "  <matplotlib.lines.Line2D at 0x7f20735e9e50>,\n",
              "  <matplotlib.lines.Line2D at 0x7f20735fae50>,\n",
              "  <matplotlib.lines.Line2D at 0x7f20736033d0>,\n",
              "  <matplotlib.lines.Line2D at 0x7f20735943d0>,\n",
              "  <matplotlib.lines.Line2D at 0x7f2073594910>,\n",
              "  <matplotlib.lines.Line2D at 0x7f20735a6910>,\n",
              "  <matplotlib.lines.Line2D at 0x7f20735a6e50>,\n",
              "  <matplotlib.lines.Line2D at 0x7f20737661d0>,\n",
              "  <matplotlib.lines.Line2D at 0x7f207376a790>,\n",
              "  <matplotlib.lines.Line2D at 0x7f207363f150>,\n",
              "  <matplotlib.lines.Line2D at 0x7f20735fa150>,\n",
              "  <matplotlib.lines.Line2D at 0x7f2073c7d8d0>,\n",
              "  <matplotlib.lines.Line2D at 0x7f2073c7db90>,\n",
              "  <matplotlib.lines.Line2D at 0x7f20737964d0>,\n",
              "  <matplotlib.lines.Line2D at 0x7f2073c7e410>,\n",
              "  <matplotlib.lines.Line2D at 0x7f2073790950>,\n",
              "  <matplotlib.lines.Line2D at 0x7f2073790110>,\n",
              "  <matplotlib.lines.Line2D at 0x7f20737b6650>,\n",
              "  <matplotlib.lines.Line2D at 0x7f2073c8bb90>,\n",
              "  <matplotlib.lines.Line2D at 0x7f2073cd8650>,\n",
              "  <matplotlib.lines.Line2D at 0x7f2073cd8790>,\n",
              "  <matplotlib.lines.Line2D at 0x7f2073cc5ed0>,\n",
              "  <matplotlib.lines.Line2D at 0x7f208274dd90>]}"
            ]
          },
          "metadata": {},
          "execution_count": 63
        },
        {
          "output_type": "display_data",
          "data": {
            "text/plain": [
              "<Figure size 432x288 with 1 Axes>"
            ],
            "image/png": "[encoded data removed]"
          },
          "metadata": {
            "needs_background": "light"
          }
        }
      ]
    },
    {
      "cell_type": "code",
      "source": [
        "sns.pairplot(data)"
      ],
      "metadata": {
        "colab": {
          "base_uri": "https://localhost:8080/",
          "height": 391
        },
        "id": "j8-eHAHpyLob",
        "outputId": "09e313e3-47e8-4ff8-cf74-108c60eff481"
      },
      "execution_count": 64,
      "outputs": [
        {
          "output_type": "execute_result",
          "data": {
            "text/plain": [
              "<seaborn.axisgrid.PairGrid at 0x7f207358e490>"
            ]
          },
          "metadata": {},
          "execution_count": 64
        },
        {
          "output_type": "display_data",
          "data": {
            "text/plain": [
              "<Figure size 360x360 with 6 Axes>"
            ],
            "image/png": "[encoded data removed]"
          },
          "metadata": {
            "needs_background": "light"
          }
        }
      ]
    },
    {
      "cell_type": "code",
      "source": [
        "sns.jointplot(xnp,ynp)"
      ],
      "metadata": {
        "colab": {
          "base_uri": "https://localhost:8080/",
          "height": 513
        },
        "id": "Q6lixrSKygH8",
        "outputId": "d360d6e4-0059-4715-8376-25abc399995e"
      },
      "execution_count": 67,
      "outputs": [
        {
          "output_type": "stream",
          "name": "stderr",
          "text": [
            "/usr/local/lib/python3.7/dist-packages/seaborn/_decorators.py:43: FutureWarning: Pass the following variables as keyword args: x, y. From version 0.12, the only valid positional argument will be `data`, and passing other arguments without an explicit keyword will result in an error or misinterpretation.\n",
            "  FutureWarning\n"
          ]
        },
        {
          "output_type": "execute_result",
          "data": {
            "text/plain": [
              "<seaborn.axisgrid.JointGrid at 0x7f2070901810>"
            ]
          },
          "metadata": {},
          "execution_count": 67
        },
        {
          "output_type": "display_data",
          "data": {
            "text/plain": [
              "<Figure size 432x432 with 3 Axes>"
            ],
            "image/png": "[encoded data removed]"
          },
          "metadata": {
            "needs_background": "light"
          }
        }
      ]
    },
    {
      "cell_type": "code",
      "source": [
        ""
      ],
      "metadata": {
        "id": "WYoGYBTSzYJa"
      },
      "execution_count": null,
      "outputs": []
    },
    {
      "cell_type": "code",
      "source": [
        "\n",
        "data.Salary.plot.density(color='green')\n",
        "plt.title('Density plot for Salary')\n",
        "plt.show()"
      ],
      "metadata": {
        "colab": {
          "base_uri": "https://localhost:8080/",
          "height": 281
        },
        "id": "0gLHZv8oyvgo",
        "outputId": "b7d0f7e4-2aa5-4da4-87aa-73770088962b"
      },
      "execution_count": 70,
      "outputs": [
        {
          "output_type": "display_data",
          "data": {
            "text/plain": [
              "<Figure size 432x288 with 1 Axes>"
            ],
            "image/png": "[encoded data removed]"
          },
          "metadata": {
            "needs_background": "light"
          }
        }
      ]
    },
    {
      "cell_type": "code",
      "source": [
        "data.YearsExperience.plot.density(color='green')\n",
        "plt.title('Density plot for Years of Experience')\n",
        "plt.show()"
      ],
      "metadata": {
        "colab": {
          "base_uri": "https://localhost:8080/",
          "height": 281
        },
        "id": "u_Q5tA-Izg85",
        "outputId": "cbc989b8-4112-4139-a2e6-9849e5eb4983"
      },
      "execution_count": 71,
      "outputs": [
        {
          "output_type": "display_data",
          "data": {
            "text/plain": [
              "<Figure size 432x288 with 1 Axes>"
            ],
            "image/png": "[encoded data removed]"
          },
          "metadata": {
            "needs_background": "light"
          }
        }
      ]
    }
  ]
}